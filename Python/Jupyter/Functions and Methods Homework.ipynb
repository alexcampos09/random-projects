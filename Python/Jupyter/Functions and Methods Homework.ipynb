{
 "cells": [
  {
   "cell_type": "code",
   "execution_count": 10,
   "metadata": {
    "collapsed": false
   },
   "outputs": [
    {
     "name": "stdout",
     "output_type": "stream",
     "text": [
      "4.18666666667\n"
     ]
    }
   ],
   "source": [
    "def vol(rad):\n",
    "    return (4.0/3) * 3.14 * rad**3\n",
    "print vol(1)"
   ]
  },
  {
   "cell_type": "code",
   "execution_count": 12,
   "metadata": {
    "collapsed": false
   },
   "outputs": [
    {
     "name": "stdout",
     "output_type": "stream",
     "text": [
      "number out of range\n"
     ]
    }
   ],
   "source": [
    "def ran_check(num, low, high):\n",
    "    if low <= num <= high:\n",
    "        print \"number is in this range\"\n",
    "    else:\n",
    "        print \"number out of range\"\n",
    "ran_check(14, 2, 12)"
   ]
  },
  {
   "cell_type": "code",
   "execution_count": 177,
   "metadata": {
    "collapsed": false
   },
   "outputs": [
    {
     "name": "stdout",
     "output_type": "stream",
     "text": [
      "False\n",
      "None\n"
     ]
    }
   ],
   "source": [
    "def ran_bool(num, low, high):\n",
    "    if num in range(low, high +1):\n",
    "        print True\n",
    "    else: \n",
    "        print False\n",
    "print ran_bool(12, 5, 11)"
   ]
  },
  {
   "cell_type": "code",
   "execution_count": 30,
   "metadata": {
    "collapsed": false
   },
   "outputs": [
    {
     "name": "stdout",
     "output_type": "stream",
     "text": [
      "(4, 33)\n"
     ]
    }
   ],
   "source": [
    "st = 'Hello Mr. Rogers, how are you this fine Tuesday?'\n",
    "\n",
    "def up_low(s):\n",
    "    Upper_case = 0\n",
    "    Lower_case = 0\n",
    "    for letter in st:\n",
    "        if letter.isupper():\n",
    "            Upper_case += 1\n",
    "        elif letter.islower():\n",
    "            Lower_case += 1\n",
    "    return Upper_case, Lower_case\n",
    "\n",
    "print up_low(st)\n",
    "    "
   ]
  },
  {
   "cell_type": "code",
   "execution_count": 35,
   "metadata": {
    "collapsed": false
   },
   "outputs": [
    {
     "name": "stdout",
     "output_type": "stream",
     "text": [
      "set([1, 2, 3, 4, 5, 6, 3842])\n"
     ]
    }
   ],
   "source": [
    "l = [1,1,1,1,2,2,3,3,3,3,4,5, 6,3842]\n",
    "def unique_list(l):\n",
    "    return set(l)\n",
    "print unique_list(l)"
   ]
  },
  {
   "cell_type": "code",
   "execution_count": 36,
   "metadata": {
    "collapsed": false
   },
   "outputs": [
    {
     "data": {
      "text/plain": [
       "-24"
      ]
     },
     "execution_count": 36,
     "metadata": {},
     "output_type": "execute_result"
    }
   ],
   "source": [
    "def multiply(numbers):  \n",
    "    total = 1\n",
    "    for i in numbers:\n",
    "        total *= i\n",
    "    return total\n",
    "multiply([1,2,3,-4])"
   ]
  },
  {
   "cell_type": "code",
   "execution_count": 181,
   "metadata": {
    "collapsed": false
   },
   "outputs": [
    {
     "name": "stdout",
     "output_type": "stream",
     "text": [
      "False\n"
     ]
    }
   ],
   "source": [
    "def palindrome(s):\n",
    "    return s == s[::-1]\n",
    "            \n",
    "print palindrome('helldeh')            "
   ]
  },
  {
   "cell_type": "code",
   "execution_count": 174,
   "metadata": {
    "collapsed": false,
    "scrolled": true
   },
   "outputs": [
    {
     "name": "stdout",
     "output_type": "stream",
     "text": [
      "this is a pangram!\n",
      "None\n"
     ]
    }
   ],
   "source": [
    "def ispangram(s): \n",
    "    alpha = ['a', 'b', 'c', 'd', 'e', 'f', 'g', 'h', 'i', 'j', 'k', 'l', \\\n",
    "               'm', 'n', 'o', 'p', 'q', 'r', 's', 't', 'u', \\\n",
    "               'v', 'w', 'x', 'y', 'z']\n",
    "    s = s.lower()\n",
    "    s = s.split(\" \")\n",
    "    lst = []\n",
    "    for word in s:\n",
    "        for char in word:\n",
    "            if char == \".\" or char == \",\" or char == \"!\" or char == \"?\"\\\n",
    "            or char == \";\":\n",
    "                pass\n",
    "            else:\n",
    "                lst += [char]\n",
    "    lst = set(lst)\n",
    "    lst = sorted(lst)\n",
    "    \n",
    "    if lst == alpha:\n",
    "        print \"this is a pangram!\"\n",
    "    else:\n",
    "        print \"this is not a pangram =/\"\n",
    "\n",
    "print ispangram(\"The quick brown fox jumps over the lazy dog!\")"
   ]
  },
  {
   "cell_type": "code",
   "execution_count": 97,
   "metadata": {
    "collapsed": false
   },
   "outputs": [
    {
     "name": "stdout",
     "output_type": "stream",
     "text": [
      "[2, 'a']\n"
     ]
    }
   ],
   "source": [
    "l = []\n",
    "l = l + [2]\n",
    "l = l + [\"a\"]\n",
    "print l"
   ]
  },
  {
   "cell_type": "code",
   "execution_count": 130,
   "metadata": {
    "collapsed": false
   },
   "outputs": [
    {
     "name": "stdout",
     "output_type": "stream",
     "text": [
      "The quick brown fox jumps over the lazy dog!\n",
      "the quick brown fox jumps over the lazy dog!\n"
     ]
    }
   ],
   "source": [
    "a = \"The quick brown fox jumps over the lazy dog!\"\n",
    "print a\n",
    "print a.lower()\n"
   ]
  },
  {
   "cell_type": "code",
   "execution_count": 212,
   "metadata": {
    "collapsed": false
   },
   "outputs": [
    {
     "data": {
      "text/plain": [
       "True"
      ]
     },
     "execution_count": 212,
     "metadata": {},
     "output_type": "execute_result"
    }
   ],
   "source": [
    "import string\n",
    "\n",
    "def ispangram(str1, alphabet=string.ascii_lowercase):\n",
    "    alphaset = set(alphabet) \n",
    "    return alphaset <= set(str1.lower()) \n",
    "\n",
    "ispangram(\"The quick brown fox jumps over the lazy dog!\")"
   ]
  },
  {
   "cell_type": "code",
   "execution_count": null,
   "metadata": {
    "collapsed": true
   },
   "outputs": [],
   "source": []
  }
 ],
 "metadata": {
  "kernelspec": {
   "display_name": "Python [Root]",
   "language": "python",
   "name": "Python [Root]"
  },
  "language_info": {
   "codemirror_mode": {
    "name": "ipython",
    "version": 2
   },
   "file_extension": ".py",
   "mimetype": "text/x-python",
   "name": "python",
   "nbconvert_exporter": "python",
   "pygments_lexer": "ipython2",
   "version": "2.7.12"
  }
 },
 "nbformat": 4,
 "nbformat_minor": 0
}

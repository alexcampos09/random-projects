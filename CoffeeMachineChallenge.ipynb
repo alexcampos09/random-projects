{
 "cells": [
  {
   "cell_type": "markdown",
   "metadata": {},
   "source": [
    "# SWENSON, HE and Alex\n",
    "## Coffe Machine Cross-Sell Backend Challenge"
   ]
  },
  {
   "cell_type": "code",
   "execution_count": 1,
   "metadata": {},
   "outputs": [],
   "source": [
    "import numpy as np\n",
    "import pandas as pd"
   ]
  },
  {
   "cell_type": "code",
   "execution_count": 2,
   "metadata": {},
   "outputs": [],
   "source": [
    "def check_item(model, flavor, package):\n",
    "    '''Checks if combination input matches any item in SKU list, if not returns None'''\n",
    "    models = {'Small':'CP0', 'Large':'CP1', 'Expresso':'EP0'}\n",
    "    \n",
    "    # Check inputs\n",
    "    if model == 'Expresso':\n",
    "        flavors = {'Vanilla':'0', 'Caramel':'1'}\n",
    "        packages = [3, 5, 7]\n",
    "        if flavor not in flavors:\n",
    "            return None\n",
    "        if package not in packages:\n",
    "            return None      \n",
    "    elif model == 'Small' or model == 'Large':\n",
    "        flavors = {'Vanilla':'0', 'Caramel':'1', 'PSL':'2', 'Mocha':'3', 'Hazelnut':'4'}\n",
    "        packages = [1,3]\n",
    "        if flavor not in flavors:\n",
    "            return None\n",
    "        if package not in packages:\n",
    "            return None      \n",
    "    else:\n",
    "        return None\n",
    "    \n",
    "    return models[model] + flavors[flavor] + str(package)\n",
    "\n",
    "def cross_sell(model=[], flavor=[], package=[]):\n",
    "    '''Returns a list of all cross sell combinations for model, flavor and package'''\n",
    "    pod_list = []\n",
    "    \n",
    "    # Check inputs\n",
    "    if not model:\n",
    "        model = ['Small', 'Large', 'Expresso']\n",
    "    if not flavor:\n",
    "        flavor = ['Vanilla', 'Caramel', 'PSL', 'Mocha', 'Hazelnut']\n",
    "    if not package:\n",
    "        package = [1, 3, 5, 7]\n",
    "    \n",
    "    # All possible combinations\n",
    "    for f in flavor:\n",
    "        for p in package: \n",
    "            for m in model:\n",
    "                pod_list.append(check_item(m, f, p))\n",
    "                \n",
    "    return pod_list"
   ]
  },
  {
   "cell_type": "code",
   "execution_count": 3,
   "metadata": {},
   "outputs": [
    {
     "name": "stdout",
     "output_type": "stream",
     "text": [
      "['CP101', 'CP111', 'CP121', 'CP131', 'CP141']\n",
      "[None, 'EP003', 'EP005', 'EP007']\n",
      "['EP003', 'EP013', None, None, None]\n"
     ]
    }
   ],
   "source": [
    "print(cross_sell(model=['Large'], package=[1]))\n",
    "print(cross_sell(['Expresso'], ['Vanilla']))\n",
    "print(cross_sell(['Expresso'], package=[3]))"
   ]
  },
  {
   "cell_type": "markdown",
   "metadata": {},
   "source": [
    "### Generating Coffe Machine Data Frame"
   ]
  },
  {
   "cell_type": "code",
   "execution_count": 4,
   "metadata": {},
   "outputs": [],
   "source": [
    "data = np.array(\"CM001 CM002 CM003 CM101 CM102 CM103 EM001 EM002 EM003\".split()).reshape(3,3)\n",
    "machines = pd.DataFrame(data=data, index=\"Small Large Expresso\".split(), \\\n",
    "             columns=\"Base Premium Deluxe\".split()).transpose()"
   ]
  },
  {
   "cell_type": "markdown",
   "metadata": {},
   "source": [
    "### Generating Coffe Pods Data Frame"
   ]
  },
  {
   "cell_type": "code",
   "execution_count": 5,
   "metadata": {},
   "outputs": [],
   "source": [
    "# Index Levels\n",
    "outside = ['Vanilla']*4+['Caramel']*4+['PSL']*4+['Mocha']*4+['Hazelnut']*4\n",
    "inside = [1,3,5,7]*5\n",
    "hier_index = list(zip(outside,inside))\n",
    "hier_index = pd.MultiIndex.from_tuples(hier_index)\n",
    "\n",
    "data = np.array(cross_sell()).reshape(20, 3) # empty cross_sell function generates pods data \n",
    "pods = pd.DataFrame(data=data, index=hier_index, columns=\"Small Large Expresso\".split())\n",
    "pods.index.names = ['Flavor', 'Packages']"
   ]
  },
  {
   "cell_type": "code",
   "execution_count": 6,
   "metadata": {},
   "outputs": [
    {
     "data": {
      "text/plain": [
       "Base       CM101\n",
       "Premium    CM102\n",
       "Deluxe     CM103\n",
       "Name: Large, dtype: object"
      ]
     },
     "execution_count": 6,
     "metadata": {},
     "output_type": "execute_result"
    }
   ],
   "source": [
    "# All large machines\n",
    "machines['Large']"
   ]
  },
  {
   "cell_type": "code",
   "execution_count": 7,
   "metadata": {},
   "outputs": [
    {
     "data": {
      "text/plain": [
       "Flavor\n",
       "Vanilla     CP101\n",
       "Caramel     CP111\n",
       "PSL         CP121\n",
       "Mocha       CP131\n",
       "Hazelnut    CP141\n",
       "Name: Large, dtype: object"
      ]
     },
     "execution_count": 7,
     "metadata": {},
     "output_type": "execute_result"
    }
   ],
   "source": [
    "# All cross-sell for large machine, smallest per flavor\n",
    "pods['Large'].xs(1, level='Packages')"
   ]
  },
  {
   "cell_type": "code",
   "execution_count": 8,
   "metadata": {},
   "outputs": [
    {
     "data": {
      "text/plain": [
       "Packages\n",
       "3    EP003\n",
       "5    EP005\n",
       "7    EP007\n",
       "Name: Expresso, dtype: object"
      ]
     },
     "execution_count": 8,
     "metadata": {},
     "output_type": "execute_result"
    }
   ],
   "source": [
    "# All choices on espresso vanilla landing page\n",
    "pods.Expresso.loc['Vanilla'].dropna()"
   ]
  },
  {
   "cell_type": "code",
   "execution_count": 9,
   "metadata": {},
   "outputs": [
    {
     "data": {
      "text/plain": [
       "Base       EM001\n",
       "Premium    EM002\n",
       "Deluxe     EM003\n",
       "Name: Expresso, dtype: object"
      ]
     },
     "execution_count": 9,
     "metadata": {},
     "output_type": "execute_result"
    }
   ],
   "source": [
    "# All espresso machines\n",
    "machines.Expresso"
   ]
  },
  {
   "cell_type": "code",
   "execution_count": 10,
   "metadata": {},
   "outputs": [
    {
     "data": {
      "text/plain": [
       "Flavor\n",
       "Vanilla    EP003\n",
       "Caramel    EP013\n",
       "Name: Expresso, dtype: object"
      ]
     },
     "execution_count": 10,
     "metadata": {},
     "output_type": "execute_result"
    }
   ],
   "source": [
    "# All cross-sell for espresso machine, smallest per flavor\n",
    "pods.Expresso.xs(3, level='Packages').dropna()"
   ]
  },
  {
   "cell_type": "code",
   "execution_count": 11,
   "metadata": {},
   "outputs": [
    {
     "data": {
      "text/plain": [
       "Small       CP001\n",
       "Large       CP101\n",
       "Expresso     None\n",
       "Name: 1, dtype: object"
      ]
     },
     "execution_count": 11,
     "metadata": {},
     "output_type": "execute_result"
    }
   ],
   "source": [
    "# All choices on general vanilla landing page, smallest per product type\n",
    "pods.loc['Vanilla'].loc[1]"
   ]
  },
  {
   "cell_type": "code",
   "execution_count": 12,
   "metadata": {},
   "outputs": [
    {
     "data": {
      "text/plain": [
       "Packages\n",
       "1     None\n",
       "3    EP003\n",
       "5    EP005\n",
       "7    EP007\n",
       "Name: Expresso, dtype: object"
      ]
     },
     "execution_count": 12,
     "metadata": {},
     "output_type": "execute_result"
    }
   ],
   "source": [
    "# Expresso is missing on the results above, check data frame\n",
    "pods.loc['Vanilla'].Expresso"
   ]
  },
  {
   "cell_type": "code",
   "execution_count": 13,
   "metadata": {},
   "outputs": [
    {
     "data": {
      "text/plain": [
       "'EP003'"
      ]
     },
     "execution_count": 13,
     "metadata": {},
     "output_type": "execute_result"
    }
   ],
   "source": [
    "# Select smallest value\n",
    "pods.loc['Vanilla'].Expresso[3]"
   ]
  },
  {
   "cell_type": "code",
   "execution_count": null,
   "metadata": {},
   "outputs": [],
   "source": []
  }
 ],
 "metadata": {
  "kernelspec": {
   "display_name": "Python 3",
   "language": "python",
   "name": "python3"
  },
  "language_info": {
   "codemirror_mode": {
    "name": "ipython",
    "version": 3
   },
   "file_extension": ".py",
   "mimetype": "text/x-python",
   "name": "python",
   "nbconvert_exporter": "python",
   "pygments_lexer": "ipython3",
   "version": "3.6.5"
  }
 },
 "nbformat": 4,
 "nbformat_minor": 2
}

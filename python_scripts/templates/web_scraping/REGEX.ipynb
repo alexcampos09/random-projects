{
 "cells": [
  {
   "cell_type": "code",
   "execution_count": 4,
   "metadata": {
    "collapsed": true
   },
   "outputs": [],
   "source": [
    "#! usr/bin/env automate\n",
    "\n",
    "# bash or something like that\n",
    "\n",
    "# create a regex for websites\n",
    "\n",
    "# create a regex for references\n",
    "\n",
    "# get the text off the clipboard\n",
    "\n",
    "# extract the websites/references from this text\n",
    "\n",
    "# copy the extracted websites/references to the clipboard"
   ]
  },
  {
   "cell_type": "code",
   "execution_count": 5,
   "metadata": {
    "collapsed": false
   },
   "outputs": [],
   "source": [
    "import re, pyperclip"
   ]
  },
  {
   "cell_type": "code",
   "execution_count": 6,
   "metadata": {
    "collapsed": false
   },
   "outputs": [],
   "source": [
    "# Available at: http://amazonwatch.org/news/2010/0209-international-outcry-as-brazilian-government\n",
    "\n",
    "sites = re.compile(r'''\n",
    "Available\\sat:\\s    \n",
    "http://.*\\s        # website\n",
    "Access:\\s         \n",
    "(\\d\\d/\\d\\d/\\d\\d\\d\\d) # access date\n",
    "''', re.VERBOSE)"
   ]
  },
  {
   "cell_type": "code",
   "execution_count": 7,
   "metadata": {
    "collapsed": false
   },
   "outputs": [],
   "source": [
    "# create a regex for references  1. BEDFORD, R. D; SNOW, D. A. Framing Processes and Social Movements611-639, 2000.\n",
    "\n",
    "books = re.compile(r'''\n",
    "\\d\\d?\\.\\s     # number\n",
    "\\w+,\\s\\w     # name, n\n",
    "''', re.VERBOSE)"
   ]
  },
  {
   "cell_type": "code",
   "execution_count": 8,
   "metadata": {
    "collapsed": false
   },
   "outputs": [],
   "source": [
    "text = pyperclip.paste()"
   ]
  },
  {
   "cell_type": "code",
   "execution_count": null,
   "metadata": {
    "collapsed": false
   },
   "outputs": [],
   "source": []
  },
  {
   "cell_type": "code",
   "execution_count": 9,
   "metadata": {
    "collapsed": false
   },
   "outputs": [],
   "source": [
    "extractedBooks = books.findall(text)\n",
    "extractedSites = sites.findall(text)"
   ]
  },
  {
   "cell_type": "code",
   "execution_count": 10,
   "metadata": {
    "collapsed": false
   },
   "outputs": [],
   "source": [
    "results = '\\n'.join(extractedBooks) + '\\n\\n'*4 + '\\n'.join(extractedSites)"
   ]
  },
  {
   "cell_type": "code",
   "execution_count": 11,
   "metadata": {
    "collapsed": false
   },
   "outputs": [],
   "source": [
    "pyperclip.copy(results)"
   ]
  },
  {
   "cell_type": "code",
   "execution_count": null,
   "metadata": {
    "collapsed": false
   },
   "outputs": [],
   "source": []
  },
  {
   "cell_type": "code",
   "execution_count": null,
   "metadata": {
    "collapsed": true
   },
   "outputs": [],
   "source": []
  }
 ],
 "metadata": {
  "anaconda-cloud": {},
  "kernelspec": {
   "display_name": "Python [automate]",
   "language": "python",
   "name": "Python [automate]"
  },
  "language_info": {
   "codemirror_mode": {
    "name": "ipython",
    "version": 3
   },
   "file_extension": ".py",
   "mimetype": "text/x-python",
   "name": "python",
   "nbconvert_exporter": "python",
   "pygments_lexer": "ipython3",
   "version": "3.5.2"
  }
 },
 "nbformat": 4,
 "nbformat_minor": 0
}
